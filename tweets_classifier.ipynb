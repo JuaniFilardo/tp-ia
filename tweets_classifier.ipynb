{
 "cells": [
  {
   "cell_type": "code",
   "execution_count": 1,
   "metadata": {},
   "outputs": [],
   "source": [
    "import json\n",
    "import pandas as pd\n",
    "import nltk \n",
    "import time"
   ]
  },
  {
   "cell_type": "code",
   "execution_count": 2,
   "metadata": {},
   "outputs": [
    {
     "name": "stderr",
     "output_type": "stream",
     "text": [
      "[nltk_data] Downloading package stopwords to\n",
      "[nltk_data]     /home/jfilardo/nltk_data...\n",
      "[nltk_data]   Package stopwords is already up-to-date!\n"
     ]
    }
   ],
   "source": [
    "nltk.download('stopwords')\n",
    "pd.set_option('display.max_colwidth', 0)"
   ]
  },
  {
   "cell_type": "markdown",
   "metadata": {},
   "source": [
    "## Reading the data"
   ]
  },
  {
   "cell_type": "code",
   "execution_count": 3,
   "metadata": {},
   "outputs": [],
   "source": [
    "with open(\"./tweets_formated.json\") as fd:\n",
    "    data = json.loads(fd.read())\n",
    "\n",
    "# with open(\"./subset.json\") as fd:\n",
    "#     data = json.loads(fd.read())\n",
    "\n",
    "df = pd.DataFrame.from_dict(data)\n",
    "df[\"text\"] = [entry[\"text\"] for entry in df.tweet]\n",
    "\n",
    "all_hashtags = []\n",
    "\n",
    "for entry in df.tweet:\n",
    "    hashtags_list = entry['entities']['hashtags']\n",
    "    hashtags = [hashtag['text'] for hashtag in hashtags_list]\n",
    "    all_hashtags.append(' '.join(hashtags))\n",
    "\n",
    "df['hashtags'] = all_hashtags\n",
    "\n",
    "data = df[['text','hashtags','classification']]"
   ]
  },
  {
   "cell_type": "code",
   "execution_count": 4,
   "metadata": {},
   "outputs": [
    {
     "data": {
      "text/plain": [
       "6694"
      ]
     },
     "execution_count": 4,
     "metadata": {},
     "output_type": "execute_result"
    }
   ],
   "source": [
    "len(data)"
   ]
  },
  {
   "cell_type": "code",
   "execution_count": 2,
   "metadata": {},
   "outputs": [],
   "source": [
    "import numpy as np # linear algebra\n",
    "import pandas as pd # data processing, CSV file I/O (e.g. pd.read_csv)\n",
    "from sklearn.model_selection import train_test_split # function for splitting data to train and test sets\n",
    "\n",
    "import nltk\n",
    "from nltk.corpus import stopwords\n",
    "from nltk.classify import SklearnClassifier"
   ]
  },
  {
   "cell_type": "markdown",
   "metadata": {},
   "source": [
    "## Let's take a look at the text data "
   ]
  },
  {
   "cell_type": "code",
   "execution_count": 6,
   "metadata": {},
   "outputs": [
    {
     "data": {
      "text/html": [
       "<div>\n",
       "<style scoped>\n",
       "    .dataframe tbody tr th:only-of-type {\n",
       "        vertical-align: middle;\n",
       "    }\n",
       "\n",
       "    .dataframe tbody tr th {\n",
       "        vertical-align: top;\n",
       "    }\n",
       "\n",
       "    .dataframe thead th {\n",
       "        text-align: right;\n",
       "    }\n",
       "</style>\n",
       "<table border=\"1\" class=\"dataframe\">\n",
       "  <thead>\n",
       "    <tr style=\"text-align: right;\">\n",
       "      <th></th>\n",
       "      <th>text</th>\n",
       "      <th>hashtags</th>\n",
       "      <th>classification</th>\n",
       "    </tr>\n",
       "  </thead>\n",
       "  <tbody>\n",
       "    <tr>\n",
       "      <td>10</td>\n",
       "      <td>threatmeter: Bugtraq: CVE-2015-0050: Microsoft Internet Explorer 8 MSHTML SRunPointer::SpanQualifier/RunType OOB r… https://t.co/mySKgq1k4t</td>\n",
       "      <td></td>\n",
       "      <td>1</td>\n",
       "    </tr>\n",
       "    <tr>\n",
       "      <td>11</td>\n",
       "      <td>#vulnerability #security : Vuln: Microsoft Windows Kernel 'Win32k.sys' CVE-2016-7255 Local Privilege Escalation Vu… https://t.co/CjMlujGqvh</td>\n",
       "      <td>vulnerability security</td>\n",
       "      <td>1</td>\n",
       "    </tr>\n",
       "    <tr>\n",
       "      <td>12</td>\n",
       "      <td>[webapps] - SAP NetWeaver AS JAVA - 'BC-BMT-BPM-DSK' XML External Entity Injection https://t.co/IWj0Zo2Kwg</td>\n",
       "      <td></td>\n",
       "      <td>1</td>\n",
       "    </tr>\n",
       "    <tr>\n",
       "      <td>13</td>\n",
       "      <td>Vuln: Adobe Flash Player APSB16-37 Multiple Remote Code Execution Vulnerabilities https://t.co/9aziDgJS1V</td>\n",
       "      <td></td>\n",
       "      <td>1</td>\n",
       "    </tr>\n",
       "    <tr>\n",
       "      <td>14</td>\n",
       "      <td>Anonymous website wants John McAfee to be Donald Trump's #cybersecurity adviser https://t.co/UPoesDze7p</td>\n",
       "      <td>cybersecurity</td>\n",
       "      <td>-1</td>\n",
       "    </tr>\n",
       "    <tr>\n",
       "      <td>15</td>\n",
       "      <td>threatmeter: Vuln: Microsoft Windows Kernel ‘Win32k.sys’ CVE-2016-7255 Local Privilege Escalation Vulnerability https://t.co/piENoScyHn</td>\n",
       "      <td></td>\n",
       "      <td>1</td>\n",
       "    </tr>\n",
       "    <tr>\n",
       "      <td>16</td>\n",
       "      <td>@HumbleEinstein Are you still experiencing this issue? If yes, try with a new Chrome profile &amp;amp; keep us posted: https://t.co/mrcdotOseh.</td>\n",
       "      <td></td>\n",
       "      <td>-1</td>\n",
       "    </tr>\n",
       "    <tr>\n",
       "      <td>17</td>\n",
       "      <td>Vuln: Oracle Java SE CVE-2016-5554 Remote Security Vulnerability https://t.co/zNOUzYc7uT\\n\\nVulnerable:\\n\\nOracle JRE(Windows Production Relea…</td>\n",
       "      <td></td>\n",
       "      <td>1</td>\n",
       "    </tr>\n",
       "    <tr>\n",
       "      <td>18</td>\n",
       "      <td>@Geff_Rock @iamShoZo @SnazzyQ We knew it... :) Currently, we're built just for Windows OS.</td>\n",
       "      <td></td>\n",
       "      <td>-1</td>\n",
       "    </tr>\n",
       "    <tr>\n",
       "      <td>19</td>\n",
       "      <td>#0daytoday #Microsoft Internet Explorer 8 MSHTML - &amp;amp;#039;Ptls5::Ls­Find­Span­Visual­Boundar [#0day #Exploit] https://t.co/poovEzpfr6</td>\n",
       "      <td>0daytoday Microsoft 0day Exploit</td>\n",
       "      <td>1</td>\n",
       "    </tr>\n",
       "  </tbody>\n",
       "</table>\n",
       "</div>"
      ],
      "text/plain": [
       "                                                                                                                                               text  \\\n",
       "10  threatmeter: Bugtraq: CVE-2015-0050: Microsoft Internet Explorer 8 MSHTML SRunPointer::SpanQualifier/RunType OOB r… https://t.co/mySKgq1k4t       \n",
       "11  #vulnerability #security : Vuln: Microsoft Windows Kernel 'Win32k.sys' CVE-2016-7255 Local Privilege Escalation Vu… https://t.co/CjMlujGqvh       \n",
       "12  [webapps] - SAP NetWeaver AS JAVA - 'BC-BMT-BPM-DSK' XML External Entity Injection https://t.co/IWj0Zo2Kwg                                        \n",
       "13  Vuln: Adobe Flash Player APSB16-37 Multiple Remote Code Execution Vulnerabilities https://t.co/9aziDgJS1V                                         \n",
       "14  Anonymous website wants John McAfee to be Donald Trump's #cybersecurity adviser https://t.co/UPoesDze7p                                           \n",
       "15  threatmeter: Vuln: Microsoft Windows Kernel ‘Win32k.sys’ CVE-2016-7255 Local Privilege Escalation Vulnerability https://t.co/piENoScyHn           \n",
       "16  @HumbleEinstein Are you still experiencing this issue? If yes, try with a new Chrome profile &amp; keep us posted: https://t.co/mrcdotOseh.       \n",
       "17  Vuln: Oracle Java SE CVE-2016-5554 Remote Security Vulnerability https://t.co/zNOUzYc7uT\\n\\nVulnerable:\\n\\nOracle JRE(Windows Production Relea…   \n",
       "18  @Geff_Rock @iamShoZo @SnazzyQ We knew it... :) Currently, we're built just for Windows OS.                                                        \n",
       "19  #0daytoday #Microsoft Internet Explorer 8 MSHTML - &amp;#039;Ptls5::Ls­Find­Span­Visual­Boundar [#0day #Exploit] https://t.co/poovEzpfr6          \n",
       "\n",
       "                            hashtags  classification  \n",
       "10                                    1               \n",
       "11  vulnerability security            1               \n",
       "12                                    1               \n",
       "13                                    1               \n",
       "14  cybersecurity                    -1               \n",
       "15                                    1               \n",
       "16                                   -1               \n",
       "17                                    1               \n",
       "18                                   -1               \n",
       "19  0daytoday Microsoft 0day Exploit  1               "
      ]
     },
     "execution_count": 6,
     "metadata": {},
     "output_type": "execute_result"
    }
   ],
   "source": [
    "data[10:20]"
   ]
  },
  {
   "cell_type": "markdown",
   "metadata": {},
   "source": [
    "#### Split between train and test data, and separate between 'positive' (relevant) and 'negative' (irrelevant) "
   ]
  },
  {
   "cell_type": "code",
   "execution_count": 7,
   "metadata": {},
   "outputs": [],
   "source": [
    "# Splitting the dataset into train and test set\n",
    "train, test = train_test_split(data,test_size = 0.1)\n",
    "\n",
    "# Cybersec-relevant tweets\n",
    "train_pos = train[ train['classification'] == 1]\n",
    "train_pos = train_pos['text']\n",
    "\n",
    "test_pos = test[ test['classification'] == 1]\n",
    "test_pos = test_pos['text']\n",
    "\n",
    "# Cybersec-irrelevant tweets\n",
    "train_neg = train[ train['classification'] == -1]\n",
    "train_neg = train_neg['text']\n",
    "\n",
    "test_neg = test[ test['classification'] == -1]\n",
    "test_neg = test_neg['text']\n"
   ]
  },
  {
   "cell_type": "markdown",
   "metadata": {},
   "source": [
    "#### Preprocess text: remove stopwords, hashtags, mentions, &c"
   ]
  },
  {
   "cell_type": "code",
   "execution_count": 8,
   "metadata": {},
   "outputs": [],
   "source": [
    "tweets = []\n",
    "stopwords_set = set(stopwords.words(\"english\"))\n",
    "\n",
    "for index, row in train.iterrows():\n",
    "    words_filtered = [e.lower() for e in row.text.split() if len(e) >= 3]\n",
    "    words_cleaned = [word for word in words_filtered\n",
    "        if 'http' not in word\n",
    "        and not word.startswith('@')\n",
    "        and not word.startswith('#')\n",
    "        and word != 'RT']\n",
    "    words_without_stopwords = [word for word in words_cleaned if not word in stopwords_set]\n",
    "#     words_cleaned = words_without_stopwords # Uncomment to remove stopwords from data\n",
    "#     words_cleaned.append(row.hashtags) # Uncomment to add hashtags to data\n",
    "    tweets.append((words_cleaned,row.classification))"
   ]
  },
  {
   "cell_type": "markdown",
   "metadata": {},
   "source": [
    "## Extracting word features"
   ]
  },
  {
   "cell_type": "code",
   "execution_count": 9,
   "metadata": {},
   "outputs": [],
   "source": [
    "def get_words_in_tweets(tweets):\n",
    "    all = []\n",
    "    for (words, sentiment) in tweets:\n",
    "        all.extend(words)\n",
    "    return all\n",
    "\n",
    "def get_word_features(wordlist):\n",
    "    wordlist = nltk.FreqDist(wordlist)\n",
    "    features = wordlist.keys()\n",
    "    return features\n",
    "\n",
    "w_features = get_word_features(get_words_in_tweets(tweets))\n",
    "\n",
    "def extract_features(document): # document = tweet1\n",
    "    document_words = set(document)\n",
    "    features = {}\n",
    "    \n",
    "    for word in w_features:\n",
    "        features['contains({})'.format(word)] = (word in document_words) # is the word in this tweet?\n",
    "    return features"
   ]
  },
  {
   "cell_type": "markdown",
   "metadata": {},
   "source": [
    "## Using a Naive Bayes Classifier"
   ]
  },
  {
   "cell_type": "markdown",
   "metadata": {},
   "source": [
    "#### Extract features from the tweets, then train the classifier "
   ]
  },
  {
   "cell_type": "code",
   "execution_count": 10,
   "metadata": {},
   "outputs": [
    {
     "name": "stdout",
     "output_type": "stream",
     "text": [
      "CPU times: user 1min 29s, sys: 19.6 ms, total: 1min 29s\n",
      "Wall time: 1min 29s\n"
     ]
    }
   ],
   "source": [
    "%%time\n",
    "# Training the Naive Bayes classifier\n",
    "training_set = nltk.classify.apply_features(extract_features, tweets)\n",
    "classifier = nltk.NaiveBayesClassifier.train(training_set)"
   ]
  },
  {
   "cell_type": "code",
   "execution_count": 11,
   "metadata": {},
   "outputs": [
    {
     "name": "stdout",
     "output_type": "stream",
     "text": [
      "The tweet is relevant.\n"
     ]
    }
   ],
   "source": [
    "tweet = 'Cibersecurity java cve toolkit bootstrap'\n",
    "res =  'relevant' if classifier.classify(extract_features(tweet.lower().split())) == 1 else 'irrelevant'\n",
    "print('The tweet is {}.'.format(res))"
   ]
  },
  {
   "cell_type": "markdown",
   "metadata": {},
   "source": [
    "#### Classify the tweets on the test_set"
   ]
  },
  {
   "cell_type": "code",
   "execution_count": 12,
   "metadata": {},
   "outputs": [
    {
     "name": "stdout",
     "output_type": "stream",
     "text": [
      "[Negative]: Predicted: 204 / Actual 316 \n",
      "[Positive]: Predicted: 326 / Actual 354 \n",
      "\n",
      "True positive rate: 0.9209039548022598\n",
      "True negative rate: 0.6455696202531646\n",
      "CPU times: user 21.1 s, sys: 3.23 ms, total: 21.1 s\n",
      "Wall time: 21.2 s\n"
     ]
    }
   ],
   "source": [
    "%%time\n",
    "\n",
    "neg_cnt = 0\n",
    "pos_cnt = 0\n",
    "\n",
    "for tweet in test_neg:\n",
    "    res =  classifier.classify(extract_features(tweet.split()))\n",
    "    if(res == -1):\n",
    "        neg_cnt = neg_cnt + 1\n",
    "        \n",
    "for tweet in test_pos: \n",
    "    res =  classifier.classify(extract_features(tweet.split()))\n",
    "    if(res == 1): \n",
    "        pos_cnt = pos_cnt + 1\n",
    "        \n",
    "print('[Negative]: Predicted: %s / Actual %s '  % (neg_cnt, len(test_neg)))        \n",
    "print('[Positive]: Predicted: %s / Actual %s '  % (pos_cnt, len(test_pos)))\n",
    "\n",
    "tpr = pos_cnt/len(test_pos)\n",
    "tnr = neg_cnt/len(test_neg)\n",
    "\n",
    "print('\\nTrue positive rate:', tpr)\n",
    "print('True negative rate:', tnr)"
   ]
  },
  {
   "cell_type": "markdown",
   "metadata": {},
   "source": [
    "## Testing results on subset.json\n",
    "------------------------------------\n",
    "### Not cleaning stopwords:\n",
    "\n",
    "#### Disregarding hashtags:\n",
    "True positive rate: 0.9382716049382716 <br>\n",
    "True negative rate: 0.7101449275362319\n",
    "\n",
    "#### Using hashtags:\n",
    "True positive rate: 0.8529411764705882 <br>\n",
    "True negative rate: 0.5975609756097561\n",
    "\n",
    "> Wow that was disappointing\n",
    "\n",
    "\n",
    "### Cleaning stopwords:\n",
    "\n",
    "#### Disregarding hashtags:\n",
    "\n",
    "True positive rate: 0.5844155844155844 <br>\n",
    "True negative rate: 0.9452054794520548\n",
    "\n",
    "#### Using hashtags:\n",
    "True positive rate: 0.6966292134831461 <br>\n",
    "True negative rate: 0.9016393442622951\n"
   ]
  },
  {
   "cell_type": "markdown",
   "metadata": {},
   "source": [
    "## Testing results on the whole dataset\n",
    "----------------------------\n",
    "\n",
    "### With stopwords:\n",
    "\n",
    "#### Disregarding hashtags:\n",
    "True positive rate: 0.9344262295081968 <br>\n",
    "True negative rate: 0.6480263157894737\n",
    "\n",
    "#### Using hashtags:\n",
    "True positive rate: 0.8072625698324022 <br>\n",
    "True negative rate: 0.7147435897435898\n",
    "\n",
    "> Wow that looks disappointing\n",
    "\n",
    "\n",
    "### Without stopwords:\n",
    "\n",
    "#### Disregarding hashtags:\n",
    "True positive rate: 0.6109589041095891 <br> \n",
    "True negative rate: 0.8918032786885246\n",
    "\n",
    "#### Using hashtags:\n",
    "True positive rate: 0.684931506849315 <br>\n",
    "True negative rate: 0.8885245901639345"
   ]
  },
  {
   "cell_type": "code",
   "execution_count": 13,
   "metadata": {},
   "outputs": [
    {
     "name": "stdout",
     "output_type": "stream",
     "text": [
      "Most Informative Features\n",
      "          contains(what) = True               -1 : 1      =     63.5 : 1.0\n",
      "         contains(adobe) = True                1 : -1     =     52.6 : 1.0\n",
      "           contains(hat) = True                1 : -1     =     49.6 : 1.0\n",
      "           contains(you) = True               -1 : 1      =     40.8 : 1.0\n",
      "          contains(suse) = True                1 : -1     =     39.8 : 1.0\n",
      "       contains(chrome?) = True               -1 : 1      =     39.5 : 1.0\n",
      "       contains(website) = True               -1 : 1      =     38.1 : 1.0\n",
      "       contains(acrobat) = True                1 : -1     =     36.5 : 1.0\n",
      "        contains(player) = True                1 : -1     =     35.7 : 1.0\n",
      "          contains(rhel) = True                1 : -1     =     34.8 : 1.0\n"
     ]
    }
   ],
   "source": [
    "classifier.show_most_informative_features()"
   ]
  },
  {
   "cell_type": "markdown",
   "metadata": {},
   "source": [
    ">For instance, \"contains(thanks) = True  (-1 : 1)     =     (28.2 : 1.0)\" means that \n",
    "a tweet that contains *thanks* is *28.2* times more likely to be *irrelevant* that *relevant*."
   ]
  },
  {
   "cell_type": "markdown",
   "metadata": {},
   "source": [
    "## Using a Support Vector Machine  "
   ]
  },
  {
   "cell_type": "code",
   "execution_count": 14,
   "metadata": {},
   "outputs": [],
   "source": [
    "from sklearn import svm"
   ]
  },
  {
   "cell_type": "code",
   "execution_count": 15,
   "metadata": {},
   "outputs": [
    {
     "name": "stdout",
     "output_type": "stream",
     "text": [
      "CPU times: user 33.4 s, sys: 6.73 ms, total: 33.4 s\n",
      "Wall time: 33.5 s\n"
     ]
    }
   ],
   "source": [
    "%%time\n",
    "\n",
    "X = np.empty((len(training_set), len(training_set[0][0])), dtype=np.int8)\n",
    "Y = np.empty((len(training_set), 1), dtype=np.int8)\n",
    "\n",
    "for i in range(X.shape[0]):\n",
    "    values = list(training_set[i][0].values())\n",
    "    for j in range(X.shape[1]):\n",
    "        X[i,j] = 1 if values[j] else 0\n",
    "    Y[i] = training_set[i][1]"
   ]
  },
  {
   "cell_type": "code",
   "execution_count": 16,
   "metadata": {},
   "outputs": [
    {
     "data": {
      "text/plain": [
       "(6024, 7503)"
      ]
     },
     "execution_count": 16,
     "metadata": {},
     "output_type": "execute_result"
    }
   ],
   "source": [
    "X.shape"
   ]
  },
  {
   "cell_type": "markdown",
   "metadata": {},
   "source": [
    "- X is a matrix of shape \\[m,n\\] where:\n",
    "  + m is the size of the training set, i.e. how many tweets\n",
    "  + n is the number of different words in the corpus\n",
    "- Y is a column \\[m,1\\] with the label for each tweet (1 or -1)\n",
    "- Any given row on X is a tweet. The columns in the row will be:\n",
    "  + 1 if the nth word is found in the mth tweet\n",
    "  + 0 otherwise"
   ]
  },
  {
   "cell_type": "code",
   "execution_count": 17,
   "metadata": {},
   "outputs": [],
   "source": [
    "tweet = 'threatmeter: #0daytoday #Oracle OpenJDK Runtime Environment Build 1.8.0_112-b15 Denial Of Service Exploit [#0day #… https://t.co/FZwU4Iu1PK'\n",
    "\n",
    "def generate_vector(document):\n",
    "    \"\"\"Generates a vector of size [1,n] which will have 1s or 0s according\n",
    "    to the presence or absence of a given word in the document.\n",
    "    \"\"\"\n",
    "    x = np.empty((1, len(training_set[0][0])), dtype=np.int8)\n",
    "    test_sample = list(extract_features(document.lower().split()).values())\n",
    "    for i in range(x.shape[1]):\n",
    "        x[0,i] = 1 if test_sample[i] else 0\n",
    "    return x"
   ]
  },
  {
   "cell_type": "code",
   "execution_count": 18,
   "metadata": {},
   "outputs": [
    {
     "name": "stdout",
     "output_type": "stream",
     "text": [
      "Time to fit SVM: 0.22058868408203125\n"
     ]
    },
    {
     "name": "stderr",
     "output_type": "stream",
     "text": [
      "/home/jfilardo/.pyenv/versions/3.7.3/envs/pds/lib/python3.7/site-packages/sklearn/utils/validation.py:724: DataConversionWarning: A column-vector y was passed when a 1d array was expected. Please change the shape of y to (n_samples, ), for example using ravel().\n",
      "  y = column_or_1d(y, warn=True)\n"
     ]
    }
   ],
   "source": [
    "t0 = time.time()\n",
    "\n",
    "# Create a linear support vector machine\n",
    "lin_clf = svm.LinearSVC()\n",
    "# And fit the model (training stage)\n",
    "lin_clf.fit(X, Y)\n",
    "\n",
    "t1 = time.time()\n",
    "print('Time to fit SVM:', t1-t0)"
   ]
  },
  {
   "cell_type": "code",
   "execution_count": 19,
   "metadata": {},
   "outputs": [
    {
     "name": "stdout",
     "output_type": "stream",
     "text": [
      "[Negative]: Predicted: 298 / Actual 316 \n",
      "[Positive]: Predicted: 339 / Actual 354 \n",
      "\n",
      "True positive rate: 0.9576271186440678\n",
      "True negative rate: 0.9430379746835443\n",
      "\n",
      "Time to classify: 3.072890043258667\n"
     ]
    }
   ],
   "source": [
    "def classify_with_svm(test_pos, test_neg, lin_clf):\n",
    "    t0 = time.time()\n",
    "\n",
    "    neg_cnt = 0\n",
    "    pos_cnt = 0\n",
    "    for obj in test_neg: \n",
    "        x = generate_vector(obj)\n",
    "        res = lin_clf.predict(x)\n",
    "        if(res[0] < 0.5): \n",
    "            neg_cnt = neg_cnt + 1\n",
    "    for obj in test_pos: \n",
    "        x = generate_vector(obj)\n",
    "        res = lin_clf.predict(x)\n",
    "        if(res[0] > 0.5): \n",
    "            pos_cnt = pos_cnt + 1\n",
    "\n",
    "    t1 = time.time()\n",
    "\n",
    "    print('[Negative]: Predicted: %s / Actual %s '  % (neg_cnt, len(test_neg)))        \n",
    "    print('[Positive]: Predicted: %s / Actual %s '  % (pos_cnt, len(test_pos)))   \n",
    "\n",
    "    tpr = pos_cnt/len(test_pos)\n",
    "    tnr = neg_cnt/len(test_neg)\n",
    "\n",
    "    print('\\nTrue positive rate:', tpr)\n",
    "    print('True negative rate:', tnr)\n",
    "\n",
    "    print('\\nTime to classify:', t1-t0)\n",
    "    \n",
    "\n",
    "classify_with_svm(test_pos, test_neg, lin_clf)"
   ]
  },
  {
   "cell_type": "code",
   "execution_count": 20,
   "metadata": {},
   "outputs": [
    {
     "data": {
      "text/plain": [
       "array([-1], dtype=int8)"
      ]
     },
     "execution_count": 20,
     "metadata": {},
     "output_type": "execute_result"
    }
   ],
   "source": [
    "tweet = '@MC_Odd Hmm. Can you double-check your location settings in Chrome: https://t.co/7fJod182X5? Keep us posted.'\n",
    "x = generate_vector(tweet)\n",
    "\n",
    "lin_clf.predict(x)"
   ]
  },
  {
   "cell_type": "code",
   "execution_count": 21,
   "metadata": {},
   "outputs": [
    {
     "data": {
      "text/plain": [
       "array([1], dtype=int8)"
      ]
     },
     "execution_count": 21,
     "metadata": {},
     "output_type": "execute_result"
    }
   ],
   "source": [
    "tweet = 'Bugtraq: CVE-2015-0050: Microsoft Internet Explorer 8 MSHTML SRunPointer::SpanQualifier/RunType OOB read details https://t.co/vo81vJY8Pf'\n",
    "x = generate_vector(tweet)\n",
    "\n",
    "lin_clf.predict(x)"
   ]
  },
  {
   "cell_type": "markdown",
   "metadata": {},
   "source": [
    "## On the actual evaluation set\n",
    "#### Let's first turn the tsv into a csv"
   ]
  },
  {
   "cell_type": "code",
   "execution_count": 22,
   "metadata": {},
   "outputs": [],
   "source": [
    "import re"
   ]
  },
  {
   "cell_type": "code",
   "execution_count": 68,
   "metadata": {},
   "outputs": [
    {
     "data": {
      "text/html": [
       "<div>\n",
       "<style scoped>\n",
       "    .dataframe tbody tr th:only-of-type {\n",
       "        vertical-align: middle;\n",
       "    }\n",
       "\n",
       "    .dataframe tbody tr th {\n",
       "        vertical-align: top;\n",
       "    }\n",
       "\n",
       "    .dataframe thead th {\n",
       "        text-align: right;\n",
       "    }\n",
       "</style>\n",
       "<table border=\"1\" class=\"dataframe\">\n",
       "  <thead>\n",
       "    <tr style=\"text-align: right;\">\n",
       "      <th></th>\n",
       "      <th>classification</th>\n",
       "      <th>timestamp</th>\n",
       "      <th>text</th>\n",
       "      <th>tweet_id</th>\n",
       "      <th>tweeter_id</th>\n",
       "    </tr>\n",
       "  </thead>\n",
       "  <tbody>\n",
       "    <tr>\n",
       "      <td>0</td>\n",
       "      <td>0</td>\n",
       "      <td>Sat Jan 28 00:19:27 +0000 2017</td>\n",
       "      <td>threatmeter: [webapps] - WordPress Plugin Online Hotel Booking System Pro 1.0 - SQL Injection https://t.co/ukfA1AMeoG</td>\n",
       "      <td>825136169210015744</td>\n",
       "      <td>43</td>\n",
       "    </tr>\n",
       "    <tr>\n",
       "      <td>1</td>\n",
       "      <td>0</td>\n",
       "      <td>Sat Jan 28 15:45:06 +0000 2017</td>\n",
       "      <td>Persistent Cross-Site Scripting #vulnerability in User Access Manager #WordPress Plugin https://t.co/3XXi4WI5QR #FullDisclosure</td>\n",
       "      <td>825369115984408577</td>\n",
       "      <td>25</td>\n",
       "    </tr>\n",
       "    <tr>\n",
       "      <td>2</td>\n",
       "      <td>0</td>\n",
       "      <td>Sat Jan 28 00:13:10 +0000 2017</td>\n",
       "      <td>WPBeginner Glossary - What is a Pingback in #WordPress - https://t.co/cow9wipDG9</td>\n",
       "      <td>825134585214275585</td>\n",
       "      <td>75</td>\n",
       "    </tr>\n",
       "    <tr>\n",
       "      <td>3</td>\n",
       "      <td>0</td>\n",
       "      <td>Sat Jan 28 03:21:17 +0000 2017</td>\n",
       "      <td>#cybersecurity Your Heartbeat May Soon Become Your Password https://t.co/SUsjOnTwqF #infosec</td>\n",
       "      <td>825181929649565696</td>\n",
       "      <td>33</td>\n",
       "    </tr>\n",
       "    <tr>\n",
       "      <td>4</td>\n",
       "      <td>0</td>\n",
       "      <td>Sat Jan 28 06:07:53 +0000 2017</td>\n",
       "      <td>WordPress Releases Security Update: Original release date: January 26, 2017 WordPress 4.7.1 and prior… https://t.co/oVk1EJ1RJG #infosec</td>\n",
       "      <td>825223854578614272</td>\n",
       "      <td>48</td>\n",
       "    </tr>\n",
       "    <tr>\n",
       "      <td>...</td>\n",
       "      <td>...</td>\n",
       "      <td>...</td>\n",
       "      <td>...</td>\n",
       "      <td>...</td>\n",
       "      <td>...</td>\n",
       "    </tr>\n",
       "    <tr>\n",
       "      <td>5270</td>\n",
       "      <td>1</td>\n",
       "      <td>Thu Mar 16 17:15:07 +0000 2017</td>\n",
       "      <td>RHEL 7 : policycoreutils (RHSA-2017:0536) https://t.co/SKEHeFlLEc #Nessus</td>\n",
       "      <td>842423997241278464</td>\n",
       "      <td>25</td>\n",
       "    </tr>\n",
       "    <tr>\n",
       "      <td>5271</td>\n",
       "      <td>1</td>\n",
       "      <td>Thu Mar 16 17:18:31 +0000 2017</td>\n",
       "      <td>threatmeter: Ubuntu 14.04 LTS : linux-lts-xenial vulnerabilities (USN-3234-2) https://t.co/ZQ67NqCEJ0</td>\n",
       "      <td>842424852606787585</td>\n",
       "      <td>43</td>\n",
       "    </tr>\n",
       "    <tr>\n",
       "      <td>5272</td>\n",
       "      <td>1</td>\n",
       "      <td>Thu Mar 16 09:11:40 +0000 2017</td>\n",
       "      <td>Pwn2Own 2017: Experts Hack Edge, Safari, Ubuntu: Bug bounty hunters have managed to hack Microsoft Edge… https://t.co/ankIYfSqJr #infosec</td>\n",
       "      <td>842302335929991168</td>\n",
       "      <td>48</td>\n",
       "    </tr>\n",
       "    <tr>\n",
       "      <td>5273</td>\n",
       "      <td>0</td>\n",
       "      <td>Thu Mar 16 17:15:06 +0000 2017</td>\n",
       "      <td>#Fedora 25 : 1:qbittorrent (2017-b59943dcae) https://t.co/Mynw64rGYr #Nessus</td>\n",
       "      <td>842423996448620544</td>\n",
       "      <td>25</td>\n",
       "    </tr>\n",
       "    <tr>\n",
       "      <td>5274</td>\n",
       "      <td>0</td>\n",
       "      <td>Thu Mar 16 19:45:32 +0000 2017</td>\n",
       "      <td>@LibSandy #3: Have you tried clearing browsing data? \"...\" &amp;gt; Settings &amp;gt; Clear Browsing Data. (2/2)</td>\n",
       "      <td>842461850776264705</td>\n",
       "      <td>40</td>\n",
       "    </tr>\n",
       "  </tbody>\n",
       "</table>\n",
       "<p>5275 rows × 5 columns</p>\n",
       "</div>"
      ],
      "text/plain": [
       "      classification                       timestamp  \\\n",
       "0     0               Sat Jan 28 00:19:27 +0000 2017   \n",
       "1     0               Sat Jan 28 15:45:06 +0000 2017   \n",
       "2     0               Sat Jan 28 00:13:10 +0000 2017   \n",
       "3     0               Sat Jan 28 03:21:17 +0000 2017   \n",
       "4     0               Sat Jan 28 06:07:53 +0000 2017   \n",
       "...  ..                                          ...   \n",
       "5270  1               Thu Mar 16 17:15:07 +0000 2017   \n",
       "5271  1               Thu Mar 16 17:18:31 +0000 2017   \n",
       "5272  1               Thu Mar 16 09:11:40 +0000 2017   \n",
       "5273  0               Thu Mar 16 17:15:06 +0000 2017   \n",
       "5274  0               Thu Mar 16 19:45:32 +0000 2017   \n",
       "\n",
       "                                                                                                                                           text  \\\n",
       "0     threatmeter: [webapps] - WordPress Plugin Online Hotel Booking System Pro 1.0 - SQL Injection https://t.co/ukfA1AMeoG                       \n",
       "1     Persistent Cross-Site Scripting #vulnerability in User Access Manager #WordPress Plugin https://t.co/3XXi4WI5QR #FullDisclosure             \n",
       "2     WPBeginner Glossary - What is a Pingback in #WordPress - https://t.co/cow9wipDG9                                                            \n",
       "3     #cybersecurity Your Heartbeat May Soon Become Your Password https://t.co/SUsjOnTwqF #infosec                                                \n",
       "4     WordPress Releases Security Update: Original release date: January 26, 2017 WordPress 4.7.1 and prior… https://t.co/oVk1EJ1RJG #infosec     \n",
       "...                                                                                                                                       ...     \n",
       "5270  RHEL 7 : policycoreutils (RHSA-2017:0536) https://t.co/SKEHeFlLEc #Nessus                                                                   \n",
       "5271  threatmeter: Ubuntu 14.04 LTS : linux-lts-xenial vulnerabilities (USN-3234-2) https://t.co/ZQ67NqCEJ0                                       \n",
       "5272  Pwn2Own 2017: Experts Hack Edge, Safari, Ubuntu: Bug bounty hunters have managed to hack Microsoft Edge… https://t.co/ankIYfSqJr #infosec   \n",
       "5273  #Fedora 25 : 1:qbittorrent (2017-b59943dcae) https://t.co/Mynw64rGYr #Nessus                                                                \n",
       "5274  @LibSandy #3: Have you tried clearing browsing data? \"...\" &gt; Settings &gt; Clear Browsing Data. (2/2)                                    \n",
       "\n",
       "                tweet_id  tweeter_id  \n",
       "0     825136169210015744  43          \n",
       "1     825369115984408577  25          \n",
       "2     825134585214275585  75          \n",
       "3     825181929649565696  33          \n",
       "4     825223854578614272  48          \n",
       "...                  ...  ..          \n",
       "5270  842423997241278464  25          \n",
       "5271  842424852606787585  43          \n",
       "5272  842302335929991168  48          \n",
       "5273  842423996448620544  25          \n",
       "5274  842461850776264705  40          \n",
       "\n",
       "[5275 rows x 5 columns]"
      ]
     },
     "execution_count": 68,
     "metadata": {},
     "output_type": "execute_result"
    }
   ],
   "source": [
    "es_df = pd.read_csv('ES_full.tsv', sep='\\t')\n",
    "es_df"
   ]
  },
  {
   "cell_type": "code",
   "execution_count": 24,
   "metadata": {},
   "outputs": [],
   "source": [
    "## Let's prepare our training sets\n",
    "# Cybersec-relevant tweets\n",
    "test_pos = es_df[es_df['classification'] == 1]\n",
    "test_pos = test_pos['text']\n",
    "\n",
    "# Cybersec-irrelevant tweets\n",
    "test_neg = es_df[ es_df['classification'] == 0] # for some reason now it's 0\n",
    "test_neg = test_neg['text']"
   ]
  },
  {
   "cell_type": "code",
   "execution_count": 25,
   "metadata": {},
   "outputs": [
    {
     "name": "stdout",
     "output_type": "stream",
     "text": [
      "[Negative]: Predicted: 3097 / Actual 3422 \n",
      "[Positive]: Predicted: 1607 / Actual 1853 \n",
      "\n",
      "True positive rate: 0.8672423097679439\n",
      "True negative rate: 0.9050263004091175\n",
      "\n",
      "Time to classify: 26.648561000823975\n"
     ]
    }
   ],
   "source": [
    "classify_with_svm(test_pos, test_neg, lin_clf)"
   ]
  },
  {
   "cell_type": "markdown",
   "metadata": {},
   "source": [
    "### Let's get some metrics"
   ]
  },
  {
   "cell_type": "code",
   "execution_count": 69,
   "metadata": {},
   "outputs": [],
   "source": [
    "from sklearn.metrics import precision_recall_fscore_support"
   ]
  },
  {
   "cell_type": "code",
   "execution_count": 72,
   "metadata": {},
   "outputs": [],
   "source": [
    "es_df[\"clean_text\"] = es_df[\"text\"]"
   ]
  },
  {
   "cell_type": "code",
   "execution_count": 73,
   "metadata": {},
   "outputs": [
    {
     "name": "stderr",
     "output_type": "stream",
     "text": [
      "/home/jfilardo/.pyenv/versions/3.7.3/envs/pds/lib/python3.7/site-packages/pandas/core/indexing.py:205: SettingWithCopyWarning: \n",
      "A value is trying to be set on a copy of a slice from a DataFrame\n",
      "\n",
      "See the caveats in the documentation: http://pandas.pydata.org/pandas-docs/stable/user_guide/indexing.html#returning-a-view-versus-a-copy\n",
      "  self._setitem_with_indexer(indexer, value)\n"
     ]
    }
   ],
   "source": [
    "for index, tweet in es_df[\"text\"].iteritems():\n",
    "    words_filtered = [e.lower() for e in tweet.split() if len(e) >= 3]\n",
    "    words_cleaned = [word for word in words_filtered\n",
    "        if 'http' not in word\n",
    "        and not word.startswith('@')\n",
    "        and not word.startswith('#')\n",
    "        and word != 'RT']\n",
    "    es_df[\"clean_text\"].loc[index] = ' '.join(words_cleaned)"
   ]
  },
  {
   "cell_type": "code",
   "execution_count": 76,
   "metadata": {},
   "outputs": [
    {
     "data": {
      "text/plain": [
       "0       threatmeter: [webapps] wordpress plugin online hotel booking system pro 1.0 sql injection             \n",
       "1       persistent cross-site scripting user access manager plugin                                            \n",
       "2       wpbeginner glossary what pingback                                                                     \n",
       "3       your heartbeat may soon become your password                                                          \n",
       "4       wordpress releases security update: original release date: january 26, 2017 wordpress 4.7.1 and prior…\n",
       "                                                         ...                                                  \n",
       "5270    rhel policycoreutils (rhsa-2017:0536)                                                                 \n",
       "5271    threatmeter: ubuntu 14.04 lts linux-lts-xenial vulnerabilities (usn-3234-2)                           \n",
       "5272    pwn2own 2017: experts hack edge, safari, ubuntu: bug bounty hunters have managed hack microsoft edge… \n",
       "5273    1:qbittorrent (2017-b59943dcae)                                                                       \n",
       "5274    have you tried clearing browsing data? \"...\" &gt; settings &gt; clear browsing data. (2/2)            \n",
       "Name: clean_text, Length: 5275, dtype: object"
      ]
     },
     "execution_count": 76,
     "metadata": {},
     "output_type": "execute_result"
    }
   ],
   "source": [
    "es_df[\"clean_text\"]"
   ]
  },
  {
   "cell_type": "code",
   "execution_count": 77,
   "metadata": {},
   "outputs": [],
   "source": [
    "es_df[\"classification\"] = es_df[\"classification\"].apply(lambda x: x if x==1 else -1)"
   ]
  },
  {
   "cell_type": "code",
   "execution_count": 79,
   "metadata": {},
   "outputs": [
    {
     "name": "stdout",
     "output_type": "stream",
     "text": [
      "CPU times: user 49.6 s, sys: 16.7 ms, total: 49.6 s\n",
      "Wall time: 49.6 s\n"
     ]
    }
   ],
   "source": [
    "%%time\n",
    "predictions = [lin_clf.predict(generate_vector(tw))[0] for tw in es_df[\"text\"]]\n",
    "clean_predictions = [lin_clf.predict(generate_vector(tw))[0] for tw in es_df[\"clean_text\"]]"
   ]
  },
  {
   "cell_type": "code",
   "execution_count": 80,
   "metadata": {},
   "outputs": [
    {
     "data": {
      "text/plain": [
       "(array([0.9264134 , 0.83178054]),\n",
       " array([0.9050263 , 0.86724231]),\n",
       " array([0.91559497, 0.84914135]),\n",
       " array([3422, 1853]))"
      ]
     },
     "execution_count": 80,
     "metadata": {},
     "output_type": "execute_result"
    }
   ],
   "source": [
    "precision_recall_fscore_support(es_df[\"classification\"], predictions)"
   ]
  },
  {
   "cell_type": "code",
   "execution_count": 81,
   "metadata": {},
   "outputs": [
    {
     "data": {
      "text/plain": [
       "(array([0.9264134 , 0.83178054]),\n",
       " array([0.9050263 , 0.86724231]),\n",
       " array([0.91559497, 0.84914135]),\n",
       " array([3422, 1853]))"
      ]
     },
     "execution_count": 81,
     "metadata": {},
     "output_type": "execute_result"
    }
   ],
   "source": [
    "precision_recall_fscore_support(es_df[\"classification\"], clean_predictions)"
   ]
  }
 ],
 "metadata": {
  "kernelspec": {
   "display_name": "Python 3",
   "language": "python",
   "name": "python3"
  },
  "language_info": {
   "codemirror_mode": {
    "name": "ipython",
    "version": 3
   },
   "file_extension": ".py",
   "mimetype": "text/x-python",
   "name": "python",
   "nbconvert_exporter": "python",
   "pygments_lexer": "ipython3",
   "version": "3.7.3"
  }
 },
 "nbformat": 4,
 "nbformat_minor": 2
}
